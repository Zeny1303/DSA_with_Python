{
 "cells": [
  {
   "cell_type": "markdown",
   "id": "fda5e053",
   "metadata": {},
   "source": [
    "# Kadane's Algorithm\n",
    "\n",
    "Given an integer array arr[]. You need to find the maximum sum of a subarray.\n",
    "\n",
    "Examples:\n",
    "Input: arr[] = [2, 3, -8, 7, -1, 2, 3]\n",
    "Output: 11\n",
    "Explanation: The subarray {7, -1, 2, 3} has the largest sum 11."
   ]
  },
  {
   "cell_type": "code",
   "execution_count": null,
   "id": "87389404",
   "metadata": {},
   "outputs": [
    {
     "name": "stdout",
     "output_type": "stream",
     "text": [
      "10\n"
     ]
    }
   ],
   "source": [
    "def kadaneAlgo(arr):\n",
    "    # let sum be 0\n",
    "    sumization = 0\n",
    "    maximum = 1 \n",
    "    for i in range (0 , len(arr)):\n",
    "        sumization = sumization + arr[i]\n",
    "        \n",
    "        maximum = max(sumization,maximum)\n",
    "        if sumization < 0 :\n",
    "            sumization = 0 \n",
    "        \n",
    "\n",
    "    return maximum\n",
    "\n",
    "#driver code \n",
    "arr =  [1,2,3,-12,10]\n",
    "result = kadaneAlgo(arr)\n",
    "print(result)\n",
    "\n"
   ]
  },
  {
   "cell_type": "code",
   "execution_count": 2,
   "id": "90ece734",
   "metadata": {},
   "outputs": [
    {
     "name": "stdout",
     "output_type": "stream",
     "text": [
      "-2\n"
     ]
    }
   ],
   "source": [
    "# Python Program for Maximum Subarray Sum using Kadane's Algorithm\n",
    "\n",
    "# Function to find the maximum subarray sum\n",
    "def maxSubarraySum(arr):\n",
    "    \n",
    "    res = arr[0]\n",
    "    maxEnding = arr[0]\n",
    "\n",
    "    for i in range(1, len(arr)):\n",
    "        \n",
    "        # Find the maximum sum ending at index i by either extending \n",
    "        # the maximum sum subarray ending at index i - 1 or by\n",
    "        # starting a new subarray from index i\n",
    "        maxEnding = max(maxEnding + arr[i], arr[i])\n",
    "        \n",
    "        # Update res if maximum subarray sum ending at index i > res\n",
    "        res = max(res, maxEnding)\n",
    "    \n",
    "    return res\n",
    "\n",
    "arr = [-2,-4]\n",
    "print(maxSubarraySum(arr))"
   ]
  }
 ],
 "metadata": {
  "kernelspec": {
   "display_name": ".venv",
   "language": "python",
   "name": "python3"
  },
  "language_info": {
   "codemirror_mode": {
    "name": "ipython",
    "version": 3
   },
   "file_extension": ".py",
   "mimetype": "text/x-python",
   "name": "python",
   "nbconvert_exporter": "python",
   "pygments_lexer": "ipython3",
   "version": "3.13.2"
  }
 },
 "nbformat": 4,
 "nbformat_minor": 5
}

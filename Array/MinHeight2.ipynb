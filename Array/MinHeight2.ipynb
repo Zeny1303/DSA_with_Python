{
 "cells": [
  {
   "cell_type": "markdown",
   "id": "65e5b142",
   "metadata": {},
   "source": [
    " # Minimize the Heights II - https://www.geeksforgeeks.org/batch/gfg-160-problems/track/arrays-gfg-160/problem/minimize-the-heights3351\n",
    "\n",
    "Given an array arr[] denoting heights of N towers and a positive integer K.\n",
    "\n",
    "For each tower, you must perform exactly one of the following operations exactly once.\n",
    "\n",
    "Increase the height of the tower by K\n",
    "Decrease the height of the tower by K\n",
    "Find out the minimum possible difference between the height of the shortest and tallest towers after you have modified each tower.\n",
    "\n",
    "You can find a slight modification of the problem here.\n",
    "Note: It is compulsory to increase or decrease the height by K for each tower. After the operation, the resultant array should not contain any negative integers.\n",
    "\n",
    "Examples :\n",
    "\n",
    "Input: k = 2, arr[] = {1, 5, 8, 10}\n",
    "Output: 5\n",
    "Explanation: The array can be modified as {1+k, 5-k, 8-k, 10-k} = {3, 3, 6, 8}.The difference between the largest and the smallest is 8-3 = 5."
   ]
  },
  {
   "cell_type": "code",
   "execution_count": 10,
   "id": "0d72a245",
   "metadata": {},
   "outputs": [
    {
     "name": "stdout",
     "output_type": "stream",
     "text": [
      "5\n"
     ]
    }
   ],
   "source": [
    "def getMinDiff(arr , k):\n",
    "    # step 1 - array ko sort \n",
    "    arr.sort()\n",
    "    \n",
    "    \n",
    "    ans = arr[-1] - arr[0]\n",
    "    for i in range (1,len(arr)):\n",
    "        Bada = max(arr[-1] - k , arr[i-1]+k)\n",
    "        chota = min(arr[0]+k,arr[i] - k)\n",
    "        if (chota < 0) :\n",
    "            continue\n",
    "        ans =  min(ans,(Bada-chota))\n",
    "    return ans    \n",
    "\n",
    "#driver code \n",
    "arr = [ 1 , 5 ,8 , 10]\n",
    "k= 2\n",
    "result = getMinDiff(arr,k)\n",
    "print(result)\n",
    "        \n"
   ]
  }
 ],
 "metadata": {
  "kernelspec": {
   "display_name": ".venv",
   "language": "python",
   "name": "python3"
  },
  "language_info": {
   "codemirror_mode": {
    "name": "ipython",
    "version": 3
   },
   "file_extension": ".py",
   "mimetype": "text/x-python",
   "name": "python",
   "nbconvert_exporter": "python",
   "pygments_lexer": "ipython3",
   "version": "3.13.2"
  }
 },
 "nbformat": 4,
 "nbformat_minor": 5
}

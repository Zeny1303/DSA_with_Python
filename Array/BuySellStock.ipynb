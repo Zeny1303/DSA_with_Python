{
 "cells": [
  {
   "cell_type": "markdown",
   "id": "ef066e11",
   "metadata": {},
   "source": [
    "# Stock Buy and Sell – Max one Transaction Allowed\n",
    "\n",
    "Given an array prices[] of length n, representing the prices of the stocks on different days. The task is to find the maximum profit possible by buying and selling the stocks on different days when at most one transaction is allowed. Here one transaction means 1 buy + 1 Sell. If it is not possible to make a profit then return 0.\n",
    "\n",
    "## Note: Stock must be bought before being sold."
   ]
  },
  {
   "cell_type": "code",
   "execution_count": 1,
   "id": "89f20867",
   "metadata": {},
   "outputs": [
    {
     "name": "stdout",
     "output_type": "stream",
     "text": [
      "5\n"
     ]
    }
   ],
   "source": [
    "def findmaxprofit(price):\n",
    "    minPrice=float('inf')\n",
    "    maxProfit =0\n",
    "\n",
    "    for i in range (len(price)):\n",
    "        if price[i] < minPrice:\n",
    "            minPrice = price[i]\n",
    "        elif price[i] - minPrice > maxProfit:\n",
    "            maxProfit = price[i] - minPrice\n",
    "    return maxProfit\n",
    "\n",
    "price=[7,1,5,3,6,4]\n",
    "maxProfit_value = findmaxprofit(price)\n",
    "print(maxProfit_value)"
   ]
  }
 ],
 "metadata": {
  "kernelspec": {
   "display_name": ".venv",
   "language": "python",
   "name": "python3"
  },
  "language_info": {
   "codemirror_mode": {
    "name": "ipython",
    "version": 3
   },
   "file_extension": ".py",
   "mimetype": "text/x-python",
   "name": "python",
   "nbconvert_exporter": "python",
   "pygments_lexer": "ipython3",
   "version": "3.13.2"
  }
 },
 "nbformat": 4,
 "nbformat_minor": 5
}

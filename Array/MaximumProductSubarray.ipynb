{
 "cells": [
  {
   "cell_type": "code",
   "execution_count": null,
   "id": "ba7c5a7d",
   "metadata": {},
   "outputs": [
    {
     "name": "stdout",
     "output_type": "stream",
     "text": [
      "180\n"
     ]
    }
   ],
   "source": [
    "def maxProduct(arr):\n",
    "\t\t# code here\n",
    "\t\tleft, right =1,1\n",
    "\t\tmaxleft  = float(\"-inf\")\n",
    "\t\tmaxright = float(\"-inf\")\n",
    "\t\t\n",
    "\t\t# loop from left to right \n",
    "\t\tfor i in range(len(arr)):\n",
    "\t\t    if left == 0 :\n",
    "\t\t        left = 1\n",
    "\t\t    left *= arr[i]\n",
    "\t\t    maxleft = max(left,maxleft)\n",
    "\t\t    \n",
    "\t\tfor j in range(len(arr)-1,-1,-1):\n",
    "\t\t    if right == 0 :\n",
    "\t\t        right = 1\n",
    "\t\t    right *= arr[j]\n",
    "\t\t    maxright = max(right,maxright)\n",
    "\t\treturn max(maxleft,maxright) \n",
    "\n",
    "arr = [-1, -3, -10, 0, 2]\n",
    "result = maxProduct(arr)\n",
    "print(result)"
   ]
  },
  {
   "cell_type": "code",
   "execution_count": 5,
   "id": "be2fabfc",
   "metadata": {},
   "outputs": [
    {
     "name": "stdout",
     "output_type": "stream",
     "text": [
      "0\n"
     ]
    }
   ],
   "source": [
    "def searchInsert(arr , target):\n",
    "        \"\"\"\n",
    "        :type nums: List[int]\n",
    "        :type target: int\n",
    "        :rtype: int\n",
    "        \"\"\"\n",
    "        i = 0\n",
    "        j = len(arr)-1\n",
    "        while i<=j:\n",
    "            mid = (i+j)//2\n",
    "            if arr[mid] == target:\n",
    "                return mid \n",
    "            elif arr[mid]<= target:\n",
    "                i = mid +1\n",
    "            else:\n",
    "                j= mid-1\n",
    "        for k in range (0,len(arr)):\n",
    "            if arr[k]>= target:\n",
    "                return k- 1  \n",
    "                \n",
    "            \n",
    "arr = [1,3,5,6]\n",
    "target = 2\n",
    "print(searchInsert(arr,target))         "
   ]
  }
 ],
 "metadata": {
  "kernelspec": {
   "display_name": ".venv",
   "language": "python",
   "name": "python3"
  },
  "language_info": {
   "codemirror_mode": {
    "name": "ipython",
    "version": 3
   },
   "file_extension": ".py",
   "mimetype": "text/x-python",
   "name": "python",
   "nbconvert_exporter": "python",
   "pygments_lexer": "ipython3",
   "version": "3.13.2"
  }
 },
 "nbformat": 4,
 "nbformat_minor": 5
}

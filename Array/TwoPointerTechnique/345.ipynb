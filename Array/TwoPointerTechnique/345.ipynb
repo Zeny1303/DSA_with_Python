{
 "cells": [
  {
   "cell_type": "markdown",
   "id": "5f324950",
   "metadata": {},
   "source": [
    "# 345. Reverse Vowels of a String\n",
    "Given a string s, reverse only all the vowels in the string and return it.\n",
    "The vowels are 'a', 'e', 'i', 'o', and 'u', and they can appear in both lower and upper cases, more than once.\n",
    "\n",
    "question link :- https://leetcode.com/problems/reverse-vowels-of-a-string/\n"
   ]
  },
  {
   "cell_type": "markdown",
   "id": "245e2ca1",
   "metadata": {},
   "source": [
    "## Example 1:\n",
    "Input: s = \"IceCreAm\"\n",
    "Output: \"AceCreIm\"\n",
    "Explanation:\n",
    "The vowels in s are ['I', 'e', 'e', 'A']. On reversing the vowels, s becomes \"AceCreIm\"."
   ]
  },
  {
   "cell_type": "code",
   "execution_count": 8,
   "id": "e0f2c2c1",
   "metadata": {},
   "outputs": [
    {
     "name": "stdout",
     "output_type": "stream",
     "text": [
      "After reversing  AceCreIm\n"
     ]
    }
   ],
   "source": [
    "def isVowel(ch):\n",
    "    if ch in \"aeiouAEIOU\":\n",
    "        return True \n",
    "    return False    \n",
    "       \n",
    "\n",
    "\n",
    "def reverseVowel(s):\n",
    "    s = list(s) #convert string to list so we can swap characters\n",
    "    i =0 \n",
    "    j = len(s)-1  \n",
    "    while i<=j:\n",
    "        if not isVowel(s[i]):\n",
    "            i +=1\n",
    "        elif not isVowel(s[j]):\n",
    "            j -= 1\n",
    "        else: # dono vowel hai -> swap kro / reverse kro \n",
    "            s[i],s[j] = s[j],s[i]\n",
    "            i +=1\n",
    "            j -= 1\n",
    "    return ''.join(s)  #join the list back into a string\n",
    "\n",
    "#driver code \n",
    "s = \"IceCreAm\"\n",
    "result = reverseVowel(s)\n",
    "print(\"After reversing \", result )"
   ]
  }
 ],
 "metadata": {
  "kernelspec": {
   "display_name": ".venv",
   "language": "python",
   "name": "python3"
  },
  "language_info": {
   "codemirror_mode": {
    "name": "ipython",
    "version": 3
   },
   "file_extension": ".py",
   "mimetype": "text/x-python",
   "name": "python",
   "nbconvert_exporter": "python",
   "pygments_lexer": "ipython3",
   "version": "3.13.2"
  }
 },
 "nbformat": 4,
 "nbformat_minor": 5
}

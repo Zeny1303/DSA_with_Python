{
 "cells": [
  {
   "cell_type": "code",
   "execution_count": 1,
   "id": "c57575b4",
   "metadata": {},
   "outputs": [
    {
     "ename": "IndexError",
     "evalue": "list index out of range",
     "output_type": "error",
     "traceback": [
      "\u001b[31m---------------------------------------------------------------------------\u001b[39m",
      "\u001b[31mIndexError\u001b[39m                                Traceback (most recent call last)",
      "\u001b[36mCell\u001b[39m\u001b[36m \u001b[39m\u001b[32mIn[1]\u001b[39m\u001b[32m, line 13\u001b[39m\n\u001b[32m     10\u001b[39m     \u001b[38;5;28;01mreturn\u001b[39;00m nums\n\u001b[32m     12\u001b[39m nums =[\u001b[32m1\u001b[39m,\u001b[32m1\u001b[39m,\u001b[32m2\u001b[39m]\n\u001b[32m---> \u001b[39m\u001b[32m13\u001b[39m result = \u001b[43mduplicates\u001b[49m\u001b[43m(\u001b[49m\u001b[43mnums\u001b[49m\u001b[43m)\u001b[49m\n\u001b[32m     14\u001b[39m \u001b[38;5;28mprint\u001b[39m(result)              \n",
      "\u001b[36mCell\u001b[39m\u001b[36m \u001b[39m\u001b[32mIn[1]\u001b[39m\u001b[32m, line 9\u001b[39m, in \u001b[36mduplicates\u001b[39m\u001b[34m(nums)\u001b[39m\n\u001b[32m      7\u001b[39m         j+=\u001b[32m1\u001b[39m\n\u001b[32m      8\u001b[39m     \u001b[38;5;28;01melse\u001b[39;00m:\n\u001b[32m----> \u001b[39m\u001b[32m9\u001b[39m         nums[j] = \u001b[43mnums\u001b[49m\u001b[43m[\u001b[49m\u001b[43mj\u001b[49m\u001b[43m+\u001b[49m\u001b[32;43m1\u001b[39;49m\u001b[43m]\u001b[49m\n\u001b[32m     10\u001b[39m \u001b[38;5;28;01mreturn\u001b[39;00m nums\n",
      "\u001b[31mIndexError\u001b[39m: list index out of range"
     ]
    }
   ],
   "source": [
    "def duplicates(nums):\n",
    "    i = 0\n",
    "    j = i +1\n",
    "    while (i<j):\n",
    "        if nums[i] != nums[j]:\n",
    "            i+=1\n",
    "            j+=1\n",
    "        else:\n",
    "            nums[j] = nums[j+1]\n",
    "    return nums\n",
    "\n",
    "nums =[1,1,2]\n",
    "result = duplicates(nums)\n",
    "print(result)              "
   ]
  }
 ],
 "metadata": {
  "kernelspec": {
   "display_name": ".venv",
   "language": "python",
   "name": "python3"
  },
  "language_info": {
   "codemirror_mode": {
    "name": "ipython",
    "version": 3
   },
   "file_extension": ".py",
   "mimetype": "text/x-python",
   "name": "python",
   "nbconvert_exporter": "python",
   "pygments_lexer": "ipython3",
   "version": "3.13.2"
  }
 },
 "nbformat": 4,
 "nbformat_minor": 5
}

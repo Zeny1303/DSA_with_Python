{
 "cells": [
  {
   "cell_type": "markdown",
   "id": "fccfef27",
   "metadata": {},
   "source": [
    "Example 2: Given a sorted array of unique integers and a target integer, return true if there exists a pair of numbers that sum to target, false otherwise. This problem is similar to Two Sum. (In Two Sum, the input is not sorted).\n",
    "\n",
    "For example, given nums = [20,40,60,80,90,120,240] and target(a+b) = 210, return true because 90 + 120 = 210."
   ]
  },
  {
   "cell_type": "code",
   "execution_count": 2,
   "id": "2104889d",
   "metadata": {},
   "outputs": [
    {
     "name": "stdout",
     "output_type": "stream",
     "text": [
      "(4, 5)\n"
     ]
    }
   ],
   "source": [
    "def pointer(arr,sum_value):\n",
    "    l=0\n",
    "    r= n-1\n",
    "    while l <= r:\n",
    "      if arr[l]+arr[r] == sum_value:\n",
    "       return (l,r)\n",
    "      elif   arr[l]+ arr[r] > sum_value:\n",
    "       r= r-1\n",
    "      else :\n",
    "       l =l +1 \n",
    "    return -1  \n",
    "\n",
    "       \n",
    "\n",
    "\n",
    "#driver code\n",
    "arr = [20,40,60,80,90,120,240]\n",
    "n=len(arr)\n",
    "sum_value = 210 \n",
    "result = pointer(arr, sum_value)\n",
    "\n",
    "print(result) "
   ]
  }
 ],
 "metadata": {
  "kernelspec": {
   "display_name": ".venv",
   "language": "python",
   "name": "python3"
  },
  "language_info": {
   "codemirror_mode": {
    "name": "ipython",
    "version": 3
   },
   "file_extension": ".py",
   "mimetype": "text/x-python",
   "name": "python",
   "nbconvert_exporter": "python",
   "pygments_lexer": "ipython3",
   "version": "3.13.2"
  }
 },
 "nbformat": 4,
 "nbformat_minor": 5
}

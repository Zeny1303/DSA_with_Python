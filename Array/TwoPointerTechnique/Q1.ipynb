{
 "cells": [
  {
   "cell_type": "markdown",
   "id": "d0a8ad08",
   "metadata": {},
   "source": [
    "Example 1: Given a string s, return true if it is a palindrome, false otherwise.\n",
    "\n",
    "A string is a palindrome if it reads the same forward as backward. That means, after reversing it, it is still the same string. For example: “abcdcba”, or “racecar”."
   ]
  },
  {
   "cell_type": "code",
   "execution_count": null,
   "id": "1d5999c7",
   "metadata": {},
   "outputs": [
    {
     "name": "stdout",
     "output_type": "stream",
     "text": [
      "True\n"
     ]
    }
   ],
   "source": [
    "#function call \n",
    "def ispalindrome(s):\n",
    "    s = s.lower() # Convert entire string to lowercase\n",
    "    l=0\n",
    "    r= n-1\n",
    "    while l <= r:\n",
    "      if s[l] != s[r]:\n",
    "       return False\n",
    "      l = l+1\n",
    "      r=r-1 \n",
    "    return True  \n",
    "    \n",
    "       \n",
    "\n",
    "\n",
    "#driver code\n",
    "s = \"rAdar\"\n",
    "n=len(s)\n",
    "\n",
    "result = ispalindrome(s)\n",
    "print(result)\n",
    "\n"
   ]
  }
 ],
 "metadata": {
  "kernelspec": {
   "display_name": ".venv",
   "language": "python",
   "name": "python3"
  },
  "language_info": {
   "codemirror_mode": {
    "name": "ipython",
    "version": 3
   },
   "file_extension": ".py",
   "mimetype": "text/x-python",
   "name": "python",
   "nbconvert_exporter": "python",
   "pygments_lexer": "ipython3",
   "version": "3.13.2"
  }
 },
 "nbformat": 4,
 "nbformat_minor": 5
}

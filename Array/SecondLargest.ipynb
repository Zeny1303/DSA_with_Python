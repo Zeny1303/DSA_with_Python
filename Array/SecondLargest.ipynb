{
 "cells": [
  {
   "cell_type": "markdown",
   "id": "0fe270df",
   "metadata": {},
   "source": [
    "# Second Largest - https://www.geeksforgeeks.org/batch/gfg-160-problems/track/arrays-gfg-160/problem/second-largest3735\n",
    "\n",
    "Given an array of positive integers arr[], return the second largest element from the array. If the second largest element doesn't exist then return -1.\n",
    "\n",
    "Note: The second largest element should not be equal to the largest element."
   ]
  },
  {
   "cell_type": "markdown",
   "id": "3a43106b",
   "metadata": {},
   "source": [
    "Examples:\n",
    "Input: arr[] = [12, 35, 1, 10, 34, 1]\n",
    "Output: 34\n",
    "Explanation: The largest element of the array is 35 and the second largest element is 34."
   ]
  },
  {
   "cell_type": "code",
   "execution_count": null,
   "id": "99d41895",
   "metadata": {},
   "outputs": [
    {
     "name": "stdout",
     "output_type": "stream",
     "text": [
      "-1\n"
     ]
    }
   ],
   "source": [
    "def getSecondLargest(arr):\n",
    "        largest = -1\n",
    "        secondlargest = -1\n",
    "        for i in range (0,len(arr)):\n",
    "            if arr[i] > largest :\n",
    "                secondlargest = largest\n",
    "                largest = arr[i]\n",
    "                \n",
    "            elif arr[i] > secondlargest and arr[i] !=  largest:\n",
    "                secondlargest = arr[i]\n",
    "        return secondlargest  \n",
    "\n",
    "# driver code \n",
    "arr = [10,10,10]  \n",
    "result = getSecondLargest(arr)\n",
    "print(result)\n",
    "     \n"
   ]
  }
 ],
 "metadata": {
  "kernelspec": {
   "display_name": ".venv",
   "language": "python",
   "name": "python3"
  },
  "language_info": {
   "codemirror_mode": {
    "name": "ipython",
    "version": 3
   },
   "file_extension": ".py",
   "mimetype": "text/x-python",
   "name": "python",
   "nbconvert_exporter": "python",
   "pygments_lexer": "ipython3",
   "version": "3.13.2"
  }
 },
 "nbformat": 4,
 "nbformat_minor": 5
}
